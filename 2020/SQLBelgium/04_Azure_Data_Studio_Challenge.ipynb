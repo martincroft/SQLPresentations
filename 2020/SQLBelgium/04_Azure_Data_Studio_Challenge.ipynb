{
    "metadata": {
        "kernelspec": {
            "name": "SQL",
            "display_name": "SQL",
            "language": "sql"
        },
        "language_info": {
            "name": "sql",
            "version": ""
        }
    },
    "nbformat_minor": 2,
    "nbformat": 4,
    "cells": [
        {
            "cell_type": "markdown",
            "source": [
                "![image](https://user-images.githubusercontent.com/30621653/74776587-c1983480-528f-11ea-8e02-e2c8bf2246d7.png)\r\n",
                "\r\n",
                "![image](https://user-images.githubusercontent.com/30621653/74776325-4171cf00-528f-11ea-9e65-123f45e7d764.png)"
            ],
            "metadata": {
                "azdata_cell_guid": "d59792a5-c847-49ca-9f54-d2a4869519e8"
            }
        }
    ]
}