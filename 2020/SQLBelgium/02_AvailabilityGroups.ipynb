{
    "metadata": {
        "kernelspec": {
            "name": "SQL",
            "display_name": "SQL",
            "language": "sql"
        },
        "language_info": {
            "name": "sql",
            "version": ""
        }
    },
    "nbformat_minor": 2,
    "nbformat": 4,
    "cells": [
        {
            "cell_type": "markdown",
            "source": [
                "![image](https://user-images.githubusercontent.com/30621653/74776587-c1983480-528f-11ea-8e02-e2c8bf2246d7.png)\r\n",
                "\r\n",
                "![image](https://user-images.githubusercontent.com/30621653/74776325-4171cf00-528f-11ea-9e65-123f45e7d764.png)"
            ],
            "metadata": {
                "azdata_cell_guid": "d59792a5-c847-49ca-9f54-d2a4869519e8"
            }
        },
        {
            "cell_type": "markdown",
            "source": [
                "SSMS shows me the database that are synronising !"
            ],
            "metadata": {
                "azdata_cell_guid": "2df9c973-1abb-4ded-a6e7-62372777a7cb"
            }
        },
        {
            "cell_type": "markdown",
            "source": [
                "![databases offline](https://user-images.githubusercontent.com/30621653/75612143-c6bf7400-5b18-11ea-8b0f-3931f230fbec.png)\r\n",
                ""
            ],
            "metadata": {
                "azdata_cell_guid": "16c92704-3647-4612-a643-db0f3967abe1"
            }
        },
        {
            "cell_type": "markdown",
            "source": [
                "# Blog post on creating dashboard https://blog.sqlserversolutions.co.uk/2020/03/05/azure-data-studio-database-status-dashboard-5-31/"
            ],
            "metadata": {
                "azdata_cell_guid": "53b16806-e4bc-4b2e-a28c-795622813a2c"
            }
        },
        {
            "cell_type": "markdown",
            "source": [
                ""
            ],
            "metadata": {
                "azdata_cell_guid": "f0d3753f-f3a0-44c8-9533-248946f23a68"
            }
        },
        {
            "cell_type": "markdown",
            "source": [
                "# [Azure? SQL 2000? What?](file:///C:/sqlpresentations/2020/SQLBelgium/03_So_what_versions_can_connect_to.ipynb)\r\n",
                ""
            ],
            "metadata": {
                "azdata_cell_guid": "d31b31fc-31a6-4150-9de7-d44fd29301a4"
            }
        }
    ]
}