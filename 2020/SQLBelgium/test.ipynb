{
    "metadata": {
        "kernelspec": {
            "name": "SQL",
            "display_name": "SQL",
            "language": "sql"
        },
        "language_info": {
            "name": "sql",
            "version": ""
        }
    },
    "nbformat_minor": 2,
    "nbformat": 4,
    "cells": [
        {
            "cell_type": "markdown",
            "source": [
                "https://blog.sqlserversolutions.co.uk/\r\n",
                "\r\n",
                "# Headers\r\n",
                "Writing headers in Markdown uses `#`\r\n",
                "# One `#` (with a space) is the Biggest Header\r\n",
                "## Two `##` (with a space) is a little smaller\r\n",
                "### Three `###` (with a space) is smaller again\r\n",
                "#### Four `####` (with a space) is smaller again again\r\n",
                "etc\r\n",
                ""
            ],
            "metadata": {
                "azdata_cell_guid": "ecd0dd16-5841-45d8-acda-3262a9cc66c8"
            }
        },
        {
            "cell_type": "code",
            "source": [
                "SELECT @@servername"
            ],
            "metadata": {
                "azdata_cell_guid": "7ee9c9ed-4185-48f8-bf36-9d73c39ece1b"
            },
            "outputs": [
{
    "output_type": "display_data",
    "data": {
        "text/html": "(1 row affected)"
    },
    "metadata": {}
}, {
    "output_type": "display_data",
    "data": {
        "text/html": "Total execution time: 00:00:00.002"
    },
    "metadata": {}
}, {
    "output_type": "execute_result",
    "metadata": {},
    "execution_count": 1,
    "data": {
        "application/vnd.dataresource+json": {
            "schema": {
                "fields": [
                    {
                        "name": "(No column name)"
                    }
                ]
            },
            "data": [
                {
                    "0": "BOB"
                }
            ]
        },
        "text/html": "<table><tr><th>(No column name)</th></tr><tr><td>BOB</td></tr></table>"
    }
}
],
            "execution_count": 1
        }
    ]
}