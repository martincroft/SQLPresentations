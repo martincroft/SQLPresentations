{
    "metadata": {
        "kernelspec": {
            "name": "SQL",
            "display_name": "SQL",
            "language": "sql"
        },
        "language_info": {
            "name": "sql",
            "version": ""
        }
    },
    "nbformat_minor": 2,
    "nbformat": 4,
    "cells": [
        {
            "cell_type": "markdown",
            "source": [
                "\r\n",
                "![image](https://user-images.githubusercontent.com/30621653/74770390-0cac4a80-5284-11ea-8ada-55dcccc7dd16.png)\r\n",
                "![image](https://user-images.githubusercontent.com/30621653/74770546-5ac14e00-5284-11ea-83d5-d0598a1696de.png)"
            ],
            "metadata": {
                "azdata_cell_guid": "eca6013f-d26a-4d06-9066-cfe8dce81d62"
            }
        },
        {
            "cell_type": "markdown",
            "source": [
                "Issues\r\n",
                "- Adding user into SQL  \r\n",
                "- Accessing SQL 2000  \r\n",
                "- Availability groups visibility  \r\n",
                "- Database status  online/offline\r\n",
                "- No vertical scroll \r\n",
                "- Finding issue with Default columns\r\n",
                "- changing job schedule\r\n",
                "- can't see job history\r\n",
                "- triggers\r\n",
                "- find a job across the estate \r\n",
                "- copying data from files to notebooks\r\n",
                " \r\n",
                ""
            ],
            "metadata": {
                "azdata_cell_guid": "05913782-8190-4735-abe8-da782eddc832"
            }
        }
    ]
}