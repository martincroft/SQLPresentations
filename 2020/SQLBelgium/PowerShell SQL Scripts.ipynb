{
    "metadata": {
        "kernelspec": {
            "name": "powershell",
            "display_name": "PowerShell"
        },
        "language_info": {
            "name": "powershell",
            "codemirror_mode": "shell",
            "mimetype": "text/x-sh",
            "file_extension": ".ps1"
        }
    },
    "nbformat_minor": 2,
    "nbformat": 4,
    "cells": [
        {
            "cell_type": "markdown",
            "source": [
                "# Powershell SQL Scripts #"
            ],
            "metadata": {
                "azdata_cell_guid": "1c38cd1c-ad48-494c-8ba0-ea094df4f862"
            }
        },
        {
            "cell_type": "markdown",
            "source": [
                "## **Contents**\r\n",
                "\r\n",
                "> **Database queries**  \r\n",
                "- List databases on server (Query 1)\r\n",
                "- List databases on server exclude system (Query 2)\r\n",
                "- List databases and info on server, recovery model,status, recovery model ,size (Query 3)\r\n",
                "\r\n",
                "> **SQL service queries**  \r\n",
                "- List SQL Services Status detailed (query 4)\r\n",
                "- List SQL Services Status name,status (query 5)"
            ],
            "metadata": {
                "azdata_cell_guid": "eda2e14a-6242-4934-bbae-20c7cd077ec1"
            }
        },
        {
            "cell_type": "markdown",
            "source": [
                "## **Queries**\r\n",
                "\r\n",
                "> - List databases on server (Query 1)"
            ],
            "metadata": {
                "azdata_cell_guid": "d6d00d24-6e13-4c83-81f1-b99917ba357c"
            }
        },
        {
            "cell_type": "markdown",
            "source": [
                "## Set any parameters "
            ],
            "metadata": {
                "azdata_cell_guid": "19d8e7a0-70ff-4e4d-b3f7-d0066cec8919"
            }
        },
        {
            "cell_type": "code",
            "source": [
                "$serverName ='localhost'      #SQL Server name\r\n",
                "$Computername = 'localhost'   #Computer name"
            ],
            "metadata": {
                "azdata_cell_guid": "b59deb99-7c86-4261-b050-d025b73257fd"
            },
            "outputs": [
                {
                    "name": "stdout",
                    "text": "",
                    "output_type": "stream"
                }
            ],
            "execution_count": 3
        },
        {
            "cell_type": "code",
            "source": [
                "Get-DbaDatabase -SqlInstance $ServerName | Select-Object name"
            ],
            "metadata": {
                "azdata_cell_guid": "63b1c836-1f46-4605-9190-1e1d8acaf655"
            },
            "outputs": [
                {
                    "name": "stdout",
                    "text": "\nName              \n----              \nmaster            \ntempdb            \nmodel             \nmsdb              \nAdventureWorks2017\nReports           \nWideWorldImporters\nTraceDB           \nReallyOld         \nAccountsDB        \n\n\n",
                    "output_type": "stream"
                }
            ],
            "execution_count": 4
        },
        {
            "cell_type": "markdown",
            "source": [
                ">- List databases on server exclude system (Query 2)"
            ],
            "metadata": {
                "azdata_cell_guid": "c1b44834-bce6-4dfb-aac3-0b7a8fe8ec4b"
            }
        },
        {
            "cell_type": "code",
            "source": [
                "Get-DbaDatabase -SqlInstance $ServerName -ExcludeSystem| Select-Object name"
            ],
            "metadata": {
                "azdata_cell_guid": "59188afc-c3cc-474e-8a12-130f1bb917b7"
            },
            "outputs": [
                {
                    "name": "stdout",
                    "text": "\nName              \n----              \nAdventureWorks2017\nReports           \nWideWorldImporters\nTraceDB           \nReallyOld         \nAccountsDB        \n\n\n",
                    "output_type": "stream"
                }
            ],
            "execution_count": 5
        },
        {
            "cell_type": "markdown",
            "source": [
                ">- List databases and info on server, recovery model,status, recovery model ,size (Query 3)"
            ],
            "metadata": {
                "azdata_cell_guid": "628b4518-b071-4c60-b434-105cefe40c56"
            }
        },
        {
            "cell_type": "code",
            "source": [
                "Get-DbaDatabase -SqlInstance $ServerName -ExcludeSystem | Select-Object name,status,recoveryModel,size"
            ],
            "metadata": {
                "azdata_cell_guid": "0172fb2d-525e-4b21-a8d7-3c22db3948d8"
            },
            "outputs": [
                {
                    "name": "stdout",
                    "text": "\nName                  Status RecoveryModel     Size\n----                  ------ -------------     ----\nAdventureWorks2017    Normal        Simple      336\nReports               Normal          Full      656\nWideWorldImporters    Normal        Simple 3363.125\nTraceDB               Normal          Full       80\nReallyOld            Offline          Full         \nAccountsDB         Restoring          Full         \n\n\n",
                    "output_type": "stream"
                }
            ],
            "execution_count": 6
        },
        {
            "cell_type": "markdown",
            "source": [
                ">- List SQL Services Status detailed (query 4)"
            ],
            "metadata": {
                "azdata_cell_guid": "69f0b1ae-3378-499c-aab2-4b45142e3588"
            }
        },
        {
            "cell_type": "code",
            "source": [
                "Get-DbaService -ComputerName $ComputerName"
            ],
            "metadata": {
                "azdata_cell_guid": "6d31c3d8-753f-434d-b5c0-03176eebcd65"
            },
            "outputs": [
                {
                    "name": "stdout",
                    "text": "\n\nComputerName : BOB\nServiceName  : MsDtsServer140\nServiceType  : SSIS\nInstanceName : \nDisplayName  : SQL Server Integration Services 14.0\nStartName    : NT Service\\MsDtsServer140\nState        : Running\nStartMode    : Automatic\n\nComputerName : BOB\nServiceName  : MsDtsServer150\nServiceType  : SSIS\nInstanceName : \nDisplayName  : SQL Server Integration Services 15.0\nStartName    : NT Service\\MsDtsServer150\nState        : Running\nStartMode    : Automatic\n\nComputerName : BOB\nServiceName  : MSSQL$SQL2019\nServiceType  : Engine\nInstanceName : SQL2019\nDisplayName  : SQL Server (SQL2019)\nStartName    : NT Service\\MSSQL$SQL2019\nState        : Running\nStartMode    : Automatic\n\nComputerName : BOB\nServiceName  : MSSQLLAUNCHPAD\nServiceType  : \nInstanceName : \nDisplayName  : SQL Server Launchpad (MSSQLSERVER)\nStartName    : NT Service\\MSSQLLaunchpad\nState        : Running\nStartMode    : Automatic\n\nComputerName : BOB\nServiceName  : MSSQLLAUNCHPAD$SQL2019\nServiceType  : \nInstanceName : \nDisplayName  : SQL Server Launchpad (SQL2019)\nStartName    : NT Service\\MSSQLLaunchpad$SQL2019\nState        : Running\nStartMode    : Automatic\n\nComputerName : BOB\nServiceName  : MSSQLSERVER\nServiceType  : Engine\nInstanceName : MSSQLSERVER\nDisplayName  : SQL Server (MSSQLSERVER)\nStartName    : NT Service\\MSSQLSERVER\nState        : Running\nStartMode    : Automatic\n\nComputerName : BOB\nServiceName  : SQLAgent$SQL2019\nServiceType  : Agent\nInstanceName : SQL2019\nDisplayName  : SQL Server Agent (SQL2019)\nStartName    : NT Service\\SQLAgent$SQL2019\nState        : Stopped\nStartMode    : Manual\n\nComputerName : BOB\nServiceName  : SQLBrowser\nServiceType  : Browser\nInstanceName : \nDisplayName  : SQL Server Browser\nStartName    : NT AUTHORITY\\LOCALSERVICE\nState        : Running\nStartMode    : Automatic\n\nComputerName : BOB\nServiceName  : SQLPBDMS$SQL2019\nServiceType  : PolyBase\nInstanceName : \nDisplayName  : SQL Server PolyBase Data Movement (SQL2019)\nStartName    : NT AUTHORITY\\NETWORKSERVICE\nState        : Stopped\nStartMode    : Automatic\n\nComputerName : BOB\nServiceName  : SQLPBENGINE$SQL2019\nServiceType  : PolyBase\nInstanceName : \nDisplayName  : SQL Server PolyBase Engine (SQL2019)\nStartName    : NT AUTHORITY\\NETWORKSERVICE\nState        : Stopped\nStartMode    : Automatic\n\nComputerName : BOB\nServiceName  : SQLSERVERAGENT\nServiceType  : Agent\nInstanceName : MSSQLSERVER\nDisplayName  : SQL Server Agent (MSSQLSERVER)\nStartName    : NT Service\\SQLSERVERAGENT\nState        : Running\nStartMode    : Automatic\n\n\n\n",
                    "output_type": "stream"
                }
            ],
            "execution_count": 7
        },
        {
            "cell_type": "markdown",
            "source": [
                ">- List SQL Services Status name,status (query 5)\r\n",
                ""
            ],
            "metadata": {
                "azdata_cell_guid": "58e27112-9e2b-4268-9883-1fa973e82e44"
            }
        },
        {
            "cell_type": "code",
            "source": [
                "Get-DbaService -ComputerName $ComputerName | Select-Object ServiceName,State"
            ],
            "metadata": {
                "azdata_cell_guid": "4c78a1dd-ec34-4604-b9ec-f7e1fe7c2331"
            },
            "outputs": [
                {
                    "name": "stdout",
                    "text": "\nServiceName            State  \n-----------            -----  \nMsDtsServer140         Running\nMsDtsServer150         Running\nMSSQL$SQL2019          Running\nMSSQLLAUNCHPAD         Running\nMSSQLLAUNCHPAD$SQL2019 Running\nMSSQLSERVER            Running\nSQLAgent$SQL2019       Stopped\nSQLBrowser             Running\nSQLPBDMS$SQL2019       Stopped\nSQLPBENGINE$SQL2019    Stopped\nSQLSERVERAGENT         Running\n\n\n",
                    "output_type": "stream"
                }
            ],
            "execution_count": 8
        }
    ]
}