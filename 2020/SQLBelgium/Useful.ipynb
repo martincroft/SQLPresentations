{
    "metadata": {
        "kernelspec": {
            "name": "SQL",
            "display_name": "SQL",
            "language": "sql"
        },
        "language_info": {
            "name": "sql",
            "version": ""
        }
    },
    "nbformat_minor": 2,
    "nbformat": 4,
    "cells": [
        {
            "cell_type": "markdown",
            "source": [
                "# Useful ADS Bits and pieces that made my life.. easy ish\r\n",
                "\r\n",
                "![hearts](https://user-images.githubusercontent.com/30621653/76018449-f951de00-5f17-11ea-99a3-fb305583abfc.png)"
            ],
            "metadata": {
                "azdata_cell_guid": "dfd9fa26-96b3-4747-a5aa-ed9268642608"
            }
        },
        {
            "cell_type": "markdown",
            "source": [
                "<u>Snippets</U>  \r\n",
                ">Quickly create re-useable code in simple steps\r\n",
                "1. Open New SQL query window\r\n",
                "2. Ctrl-Shift+P\r\n",
                "3. Write some SQL you want to save\r\n",
                "4. Type QE Boost and select QE Boost: Save New snippet\r\n",
                "5. Give it a name starting SQL\r\n",
                "6. Enter description\r\n",
                "7. Then just Type in any query window sql.....name of the snippet\r\n",
                ">"
            ],
            "metadata": {
                "azdata_cell_guid": "c64fa86b-d9af-4fd3-a10f-ff996233df67"
            }
        },
        {
            "cell_type": "code",
            "source": [
                "\r\n",
                "-- Get CPU Utilization History for last 256 minutes (in one minute intervals)  (Query 46) (CPU Utilization History)\r\n",
                "DECLARE @ts_now bigint = (SELECT cpu_ticks/(cpu_ticks/ms_ticks) FROM sys.dm_os_sys_info WITH (NOLOCK)); \r\n",
                "\r\n",
                "SELECT TOP(256) SQLProcessUtilization AS [SQL Server Process CPU Utilization], \r\n",
                "               SystemIdle AS [System Idle Process], \r\n",
                "               100 - SystemIdle - SQLProcessUtilization AS [Other Process CPU Utilization], \r\n",
                "               DATEADD(ms, -1 * (@ts_now - [timestamp]), GETDATE()) AS [Event Time] \r\n",
                "FROM (SELECT record.value('(./Record/@id)[1]', 'int') AS record_id, \r\n",
                "\t\t\trecord.value('(./Record/SchedulerMonitorEvent/SystemHealth/SystemIdle)[1]', 'int') \r\n",
                "\t\t\tAS [SystemIdle], \r\n",
                "\t\t\trecord.value('(./Record/SchedulerMonitorEvent/SystemHealth/ProcessUtilization)[1]', 'int') \r\n",
                "\t\t\tAS [SQLProcessUtilization], [timestamp] \r\n",
                "\t  FROM (SELECT [timestamp], CONVERT(xml, record) AS [record] \r\n",
                "\t\t\tFROM sys.dm_os_ring_buffers WITH (NOLOCK)\r\n",
                "\t\t\tWHERE ring_buffer_type = N'RING_BUFFER_SCHEDULER_MONITOR' \r\n",
                "\t\t\tAND record LIKE N'%<SystemHealth>%') AS x) AS y \r\n",
                "ORDER BY record_id DESC OPTION (RECOMPILE);\r\n",
                "------\r\n",
                ""
            ],
            "metadata": {
                "azdata_cell_guid": "90d5bd8c-d443-4e21-8eb2-5a77f3a505bb",
                "tags": [
                    "hide_input"
                ]
            },
            "outputs": [],
            "execution_count": null
        },
        {
            "cell_type": "markdown",
            "source": [
                "## Some more useful snippets\r\n",
                "\r\n",
                "> Index stats"
            ],
            "metadata": {
                "azdata_cell_guid": "d1d24dfc-08f1-4a49-91f3-f508a41f99c6"
            }
        },
        {
            "cell_type": "code",
            "source": [
                ""
            ],
            "metadata": {
                "azdata_cell_guid": "ab793342-a41a-46bb-bb03-96002e1f82ac",
                "tags": [
                    "hide_input"
                ]
            },
            "outputs": [],
            "execution_count": null
        },
        {
            "cell_type": "markdown",
            "source": [
                "> Job steps"
            ],
            "metadata": {
                "azdata_cell_guid": "3e98043e-a57c-47d6-973a-682fc982bff3"
            }
        },
        {
            "cell_type": "code",
            "source": [
                ""
            ],
            "metadata": {
                "azdata_cell_guid": "3943d635-edf5-411d-bba9-f8f3f8a4db5d"
            },
            "outputs": [],
            "execution_count": null
        },
        {
            "cell_type": "markdown",
            "source": [
                "## Converting sp_execute \r\n",
                "> ### (Shift+Ctrl+P) and search for convert"
            ],
            "metadata": {
                "azdata_cell_guid": "70bf6402-2bac-42ae-85b9-9efc4f4f3841"
            }
        },
        {
            "cell_type": "code",
            "source": [
                "exec sp_executesql N'UPDATE \"dbo\".\"ExampleTable\" SET \"PassportNumber\"=@P1 WHERE \"Emp_No\" = @P2 AND \"PayrollID\" = @P3 AND \"UKNO\" = @P4 AND \"PassportNumber\" IS NULL AND \"Time1\" IS NULL AND \"Time2\" IS NULL AND \"Time1_FE\" IS NULL AND \"Time2_FE\" IS NULL AND \"Time1_Rate\" IS NULL AND \"Time2_Rate\" IS NULL AND \"Phone_Book_ID\" IS NULL AND \"Hide_From_PR\" = @P5 AND \"Hide_From_Grid\" = @P6 AND \"Requires_PC\" = @P7 AND \"Spare_2\" = @P8 AND \"Spare_3\"\r\n",
                "= @P9 AND \"Spare_4\" = @P10 AND \"Spare_5\" = @P11 AND \"Spare_6\" = @P12 AND \"Employee_Ref\" IS NULL AND \"NI_NO\" IS NULL AND \"Payroll_Number\" IS NULL AND \"Passport_1_No\" = @P13 AND \"Passport_1_Country\" = @P14 AND \"Passport_2_No\" IS NULL AND \"Country\" = @P15 AND \"Passport_3_No\" IS NULL AND \"Passport_3_Country\" IS NULL AND \"DACEE_ID\" IS NULL AND \"Bel_Nat_No\" IS NULL AND \"Bel_Payroll_Number\" IS NULL AND \"Salary\" IS NULL AND \"Currency\" IS NULL AND \"NI_Code\" = @P16 AND \"LWB\" = @P17 AND \"_LWB_Changed_By\" = @P18 AND \"_LWB_Changed_Date\" = @P19 AND \"XY\" = @P20 AND \"Partners_Address_Book\" = @P21 AND \"ABC\" IS NULL AND \"PRT\" IS NULL AND \"SAP_ID\" = @P22 AND \"SID\" = @P23 AND \"X_Code\" IS NULL AND \"VAT_Code\" IS NULL AND \"CCMX\" IS NULL AND \"Country_of_birth\" = @P24 AND \"ExpiryDate\" = @P25 AND \"ExpiryDate2\" IS NULL AND \"ExpiryDate3\" IS NULL',N'@P1 varchar(50),@P2 int,@P3 int,@P4 varchar(50),@P5 bit,@P6 bit,@P7 bit,@P8 bit,@P9 bit,@P10 bit,@P11 bit,@P12 bit,@P13 nvarchar(50),@P14 int,@P15 int,@P16 nvarchar(1),@P17 bit,@P18 int,@P19 datetime,@P20 bit,@P21 bit,@P22 nvarchar(15),@P23 binary(250),@P24 int,@P25 datetime','1234',666,514,'SD',0,0,0,0,0,0,0,0,N'11152930',10,120,N'A',0,2100,'2022-04-18 10:29:22.390',0,1,N'00000000',0x010500000000005000000833DXX61199B978828B85E0E00000000000000000000000000,120,'2001-12-14 00:00:00'"
            ],
            "metadata": {
                "azdata_cell_guid": "0cda340d-e2a2-49e7-ae0b-0c8721f6e7ec",
                "tags": []
            },
            "outputs": [],
            "execution_count": null
        },
        {
            "cell_type": "markdown",
            "source": [
                "## Formatting SQL\r\n",
                ">### ctrl+shift+ P type poor SQL or set a hotkey (Shift-I)"
            ],
            "metadata": {
                "azdata_cell_guid": "0af76d54-d783-42e6-875a-dfcfeed83c27"
            }
        },
        {
            "cell_type": "code",
            "source": [
                "\r\n",
                "SELECT   e.[BusinessEntityID],p.[Title],p.[FirstName],p.[MiddleName] ,p.[LastName],p.[Suffix],e.[JobTitle]  ,pp.[PhoneNumber]\r\n",
                "    ,pnt.[Name] AS [PhoneNumberType],ea.[EmailAddress] ,p.[EmailPromotion]\r\n",
                "    ,a.[AddressLine1] ,a.[AddressLine2],a.[City] ,sp.[Name] AS [StateProvinceName] \r\n",
                "    ,a.[PostalCode],cr.[Name] AS [CountryRegionName]   ,p.[AdditionalContactInfo]\r\n",
                "FROM [HumanResources].[Employee] e \tINNER JOIN [Person].[Person] p\tON p.[BusinessEntityID] = e.[BusinessEntityID]\r\n",
                "    INNER JOIN [Person].[BusinessEntityAddress] bea     ON bea.[BusinessEntityID] = e.[BusinessEntityID]     INNER JOIN [Person].[Address] a \r\n",
                "    ON a.[AddressID] = bea.[AddressID]    INNER JOIN [Person].[StateProvince] sp \r\n",
                "    ON sp.[StateProvinceID] = a.[StateProvinceID]    INNER JOIN [Person].[CountryRegion] cr \r\n",
                "    ON cr.[CountryRegionCode] = sp.[CountryRegionCode]   \r\n",
                " LEFT OUTER JOIN [Person].[PersonPhone] pp\r\n",
                "ON pp.BusinessEntityID = p.[BusinessEntityID]    \r\n",
                "LEFT OUTER JOIN [Person].[PhoneNumberType] pnt\r\n",
                "    ON pp.[PhoneNumberTypeID] = pnt.[PhoneNumberTypeID]\r\n",
                "    LEFT OUTER JOIN [Person].[EmailAddress] ea\r\n",
                "    ON p.[BusinessEntityID] = ea.[BusinessEntityID];\r\n",
                "GO\r\n",
                ""
            ],
            "metadata": {
                "azdata_cell_guid": "7ef7e9c6-eccb-4aa3-9b33-d513862aeaf3"
            },
            "outputs": [],
            "execution_count": null
        },
        {
            "cell_type": "markdown",
            "source": [
                ""
            ],
            "metadata": {
                "azdata_cell_guid": "02809a54-7b97-4331-aeb9-93a9c5e07eda"
            }
        },
        {
            "cell_type": "markdown",
            "source": [
                ""
            ],
            "metadata": {
                "azdata_cell_guid": "087905fb-1a42-4e7c-a618-db49b2b2aac3"
            }
        }
    ]
}