{
    "metadata": {
        "kernelspec": {
            "name": "SQL",
            "display_name": "SQL",
            "language": "sql"
        },
        "language_info": {
            "name": "sql",
            "version": ""
        }
    },
    "nbformat_minor": 2,
    "nbformat": 4,
    "cells": [
        {
            "cell_type": "markdown",
            "source": [
                "# ..In the beginning Day 1\r\n",
                "\r\n",
                "\r\n",
                "![image](https://user-images.githubusercontent.com/30621653/74774508-d07ce800-528b-11ea-84ac-77dd54e76690.png)\r\n",
                "\r\n",
                "![image](https://user-images.githubusercontent.com/30621653/74774985-a7108c00-528c-11ea-837f-75e773d226ed.png)\r\n",
                "![image](https://user-images.githubusercontent.com/30621653/74770546-5ac14e00-5284-11ea-83d5-d0598a1696de.png)\r\n",
                "\r\n",
                ""
            ],
            "metadata": {
                "azdata_cell_guid": "0f18a970-b4b3-400d-bfe0-40efeb9785b0"
            }
        },
        {
            "cell_type": "markdown",
            "source": [
                "\r\n",
                "\r\n",
                ""
            ],
            "metadata": {
                "azdata_cell_guid": "a9a771e7-e945-44da-888e-40349edc7009"
            }
        },
        {
            "cell_type": "markdown",
            "source": [
                "## Navigated to Database to apply permissions, right click users and.."
            ],
            "metadata": {
                "azdata_cell_guid": "80e3dc9b-b739-412d-ac91-90193ab6d088"
            }
        },
        {
            "cell_type": "markdown",
            "source": [
                "![image](https://user-images.githubusercontent.com/30621653/75609283-2446c700-5aff-11ea-9308-d9c485ee7038.png)\r\n",
                "\r\n",
                ""
            ],
            "metadata": {
                "azdata_cell_guid": "7305164f-0e7f-4bb8-865e-d0781eb49591"
            }
        },
        {
            "cell_type": "markdown",
            "source": [
                "### ADS has not in-built ability to add permissions so... "
            ],
            "metadata": {
                "azdata_cell_guid": "87b588ec-10b9-4036-b7b3-9f56166f556d"
            }
        },
        {
            "cell_type": "markdown",
            "source": [
                "[Notebook Basics](file:///C:/sqlpresentations/2020/SQLBelgium/NotebookBasics.ipynb)"
            ],
            "metadata": {
                "azdata_cell_guid": "cda59701-c6f7-4bd8-91e4-2e6072a9986a"
            }
        },
        {
            "cell_type": "code",
            "source": [
                ""
            ],
            "metadata": {
                "azdata_cell_guid": "a45a24b8-7e40-4950-9482-c8819e7a026a"
            },
            "outputs": [],
            "execution_count": null
        }
    ]
}