{
    "metadata": {
        "kernelspec": {
            "name": "SQL",
            "display_name": "SQL",
            "language": "sql"
        },
        "language_info": {
            "name": "sql",
            "version": ""
        }
    },
    "nbformat_minor": 2,
    "nbformat": 4,
    "cells": [
        {
            "cell_type": "markdown",
            "source": [
                "![image](https://user-images.githubusercontent.com/30621653/74782153-dc23db00-529a-11ea-86f8-67f6e228ec64.png)\r\n",
                "\r\n",
                "\r\n",
                "![image](https://user-images.githubusercontent.com/30621653/74774985-a7108c00-528c-11ea-837f-75e773d226ed.png)\r\n",
                "![image](https://user-images.githubusercontent.com/30621653/74777679-e097c600-5291-11ea-933f-8fca4bc49f39.png)\r\n",
                ""
            ],
            "metadata": {
                "azdata_cell_guid": "0fb02095-6294-479f-80ea-440109a61ed9"
            }
        },
        {
            "cell_type": "markdown",
            "source": [
                "![image](https://user-images.githubusercontent.com/30621653/74781298-2441fe00-5299-11ea-8b4f-65b02cb3ba1f.png)"
            ],
            "metadata": {
                "azdata_cell_guid": "cae98e44-a738-43d2-8398-b25cc47270ef"
            }
        },
        {
            "cell_type": "code",
            "source": [
                ""
            ],
            "metadata": {
                "azdata_cell_guid": "7012c3f4-b1fc-4c80-bd03-c07ce546f724"
            },
            "outputs": [],
            "execution_count": null
        }
    ]
}