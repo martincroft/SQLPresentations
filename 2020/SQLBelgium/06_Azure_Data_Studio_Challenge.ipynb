{
    "metadata": {
        "kernelspec": {
            "name": "SQL",
            "display_name": "SQL",
            "language": "sql"
        },
        "language_info": {
            "name": "sql",
            "version": ""
        }
    },
    "nbformat_minor": 2,
    "nbformat": 4,
    "cells": [
        {
            "cell_type": "markdown",
            "source": [
                "# ... Bringing SQL scripts into Notebooks\r\n",
                "![image](https://user-images.githubusercontent.com/30621653/74776325-4171cf00-528f-11ea-9e65-123f45e7d764.png)"
            ],
            "metadata": {
                "azdata_cell_guid": "d59792a5-c847-49ca-9f54-d2a4869519e8"
            }
        },
        {
            "cell_type": "markdown",
            "source": [
                "# Set up Steps\r\n",
                "- Open Regedit\r\n",
                "- Browse to Computer\\HKEY_CLASSES_ROOT\\SystemFileAssociations\\.sql\r\n",
                "- If .sql key doesn't exist create it\r\n",
                "- Create Shell / Clipboard and Command Keys\r\n",
                "- Clipboard key type \"Copy to Clipboard\"\r\n",
                "- On the Command Key enter \"cmd.exe /c type \"%1\" | clip.exe\""
            ],
            "metadata": {
                "azdata_cell_guid": "5ddec23d-8dd8-4a0d-bc97-33ec3cae0cb1"
            }
        },
        {
            "cell_type": "markdown",
            "source": [
                "![image](https://user-images.githubusercontent.com/30621653/74779454-6cf7b800-5295-11ea-9dc9-b9939c50903f.png)"
            ],
            "metadata": {
                "azdata_cell_guid": "ac9571bc-e56d-4a15-a25d-137f89f926b6"
            }
        },
        {
            "cell_type": "markdown",
            "source": [
                "![image](https://user-images.githubusercontent.com/30621653/74780324-43d82700-5297-11ea-90df-3a8eb53947de.png)\r\n",
                ""
            ],
            "metadata": {
                "azdata_cell_guid": "30ec76e2-df94-401c-8c1f-dbada5f1383d"
            }
        },
        {
            "cell_type": "markdown",
            "source": [
                "c:\\\\sql"
            ],
            "metadata": {
                "azdata_cell_guid": "9b5584b4-c147-40dc-b832-edfdaa754c99"
            }
        }
    ]
}