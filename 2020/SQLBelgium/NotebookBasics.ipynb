{
    "metadata": {
        "kernelspec": {
            "name": "SQL",
            "display_name": "SQL",
            "language": "sql"
        },
        "language_info": {
            "name": "sql",
            "version": ""
        }
    },
    "nbformat_minor": 2,
    "nbformat": 4,
    "cells": [
        {
            "cell_type": "markdown",
            "source": [
                "# Note books basics"
            ],
            "metadata": {
                "azdata_cell_guid": "de4a7ce5-9116-41ae-8b07-5488c002b914"
            }
        },
        {
            "cell_type": "markdown",
            "source": [
                "![Headings](https://user-images.githubusercontent.com/30621653/75610342-54df2e80-5b08-11ea-8ca8-462108c3f8d5.png)\r\n",
                ""
            ],
            "metadata": {
                "azdata_cell_guid": "a71d59a7-6503-43ff-a6ab-1bf3943ae3b8"
            }
        },
        {
            "cell_type": "markdown",
            "source": [
                "# This is heading 1\r\n",
                "## This is Heading 2  \r\n",
                "### This is heading 3  \r\n",
                "#### This is heading 4  "
            ],
            "metadata": {
                "azdata_cell_guid": "3b713628-e6ed-4b82-9909-d64f13d5986c"
            }
        },
        {
            "cell_type": "markdown",
            "source": [
                "![bullet points](https://user-images.githubusercontent.com/30621653/75610443-14cc7b80-5b09-11ea-8ae2-32fd862ac5d3.png)\r\n",
                ""
            ],
            "metadata": {
                "azdata_cell_guid": "0e3319a8-cbd8-4651-9e85-4a706fba5c8f"
            }
        },
        {
            "cell_type": "markdown",
            "source": [
                "- Bullet point 1\r\n",
                "- Bullet point 2\r\n",
                "    - Tabbed in bullet point 1\r\n",
                "    - Tabbed in bullet point 2\r\n",
                "        - Tabbed in bullet point 1\r\n",
                "        - Tabbed in bullet point 2\r\n",
                "        "
            ],
            "metadata": {
                "azdata_cell_guid": "03448137-7ebb-465f-baf2-985ca2db9a02"
            }
        },
        {
            "cell_type": "markdown",
            "source": [
                "![bold](https://user-images.githubusercontent.com/30621653/75610809-8a861680-5b0c-11ea-88e4-6a30d2bff039.png)\r\n",
                ""
            ],
            "metadata": {
                "azdata_cell_guid": "076eaae5-68eb-4c7e-9def-c41cb1de3663"
            }
        },
        {
            "cell_type": "markdown",
            "source": [
                "You can also **bold** words as needed  \r\n",
                "or set to *Italics* using *  \r\n",
                "or even ***Bold and Italics*** if you prefer  \r\n",
                "Why not try <U>underlining</u> or combining with  \r\n",
                "<U>**underlining and bold**</u> \r\n",
                "\r\n",
                "> You can also set a special section   \r\n",
                "> Very useful for adding in notes  \r\n",
                "> Just dont forget the double spaces at the end of each line  \r\n",
                "\r\n",
                "\r\n",
                ""
            ],
            "metadata": {
                "azdata_cell_guid": "658bb243-d56a-4cc6-a469-c95e5393191e"
            }
        },
        {
            "cell_type": "markdown",
            "source": [
                "![emphasise](https://user-images.githubusercontent.com/30621653/75610963-f7e67700-5b0d-11ea-901d-f1ba5bcd7acf.png)\r\n",
                ""
            ],
            "metadata": {
                "azdata_cell_guid": "d6a190f6-bb82-42bc-9449-db8761dd0db3"
            }
        },
        {
            "cell_type": "markdown",
            "source": [
                "You can also `**emphasise**` text\r\n",
                "combining with \r\n",
                "## <u>***`whatever you`***</u> \r\n",
                "like, Heading 2 with underline and italic and emphasise\r\n",
                "\r\n",
                ""
            ],
            "metadata": {
                "azdata_cell_guid": "4b5d226b-bdc7-4c68-84a6-3f80377f5d4f"
            }
        },
        {
            "cell_type": "markdown",
            "source": [
                "![lists](https://user-images.githubusercontent.com/30621653/75611310-5c570580-5b11-11ea-8148-3feec3e4c875.png)\r\n",
                ""
            ],
            "metadata": {
                "azdata_cell_guid": "aa18a82d-9993-4cc6-8bb7-3c74c68ac9ff"
            }
        },
        {
            "cell_type": "markdown",
            "source": [
                "Last but not least Lists  \r\n",
                "1. Item one\r\n",
                "2. Item two \r\n",
                "3. Item Three  \r\n",
                "    3.1 Three point 1  \r\n",
                "    4.1  Four point 1\r\n",
                "        4.1.1 Four point 1.1 \r\n",
                "55. Item 55\r\n",
                "\r\n",
                "> Notice that number 55. is what was added to the list but its still shows the next number in the list 4.\r\n",
                "\r\n",
                "    "
            ],
            "metadata": {
                "azdata_cell_guid": "488b5da7-9ee5-44d9-82ec-5ca7e43ff0c7"
            }
        },
        {
            "cell_type": "markdown",
            "source": [
                "## `**Spaces Gotcha !!!!**` \r\n",
                "\r\n",
                "The markup                                  language\r\n",
                "                doesnt          like                Spaces \r\n",
                "    much\r\n",
                "\r\n",
                "But if you cut and paste              blank space         it can fudge it \r\n",
                "I used em space from https://beautifuldingbats.com/whitespace/\r\n",
                " Which:-  \r\n",
                "     With documentation   \r\n",
                "     Is really really something you need  \r\n",
                "     \r\n",
                ""
            ],
            "metadata": {
                "azdata_cell_guid": "6e0b659c-d41e-45dc-9f05-72b1f79dacfd"
            }
        },
        {
            "cell_type": "markdown",
            "source": [
                "\r\n",
                "![image](https://user-images.githubusercontent.com/30621653/74770546-5ac14e00-5284-11ea-83d5-d0598a1696de.png)\r\n",
                "\r\n",
                "# [So back to the original issue - Security Notebook](file:///C:/sqlpresentations/2020/SQLBelgium/Security.ipynb)"
            ],
            "metadata": {
                "azdata_cell_guid": "c8928357-25fe-464b-b07c-38b6b0c9933f"
            }
        },
        {
            "cell_type": "code",
            "source": [
                ""
            ],
            "metadata": {
                "azdata_cell_guid": "cb78929c-7533-4144-90fd-26801ae8799c"
            },
            "outputs": [],
            "execution_count": null
        }
    ]
}