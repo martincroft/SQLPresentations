{
    "metadata": {
        "kernelspec": {
            "name": "SQL",
            "display_name": "SQL",
            "language": "sql"
        },
        "language_info": {
            "name": "sql",
            "version": ""
        }
    },
    "nbformat_minor": 2,
    "nbformat": 4,
    "cells": [
        {
            "cell_type": "markdown",
            "source": [
                "# Security Scripts - Amendments  \r\n",
                "                       ![image](https://user-images.githubusercontent.com/30621653/75694124-ecc35080-5c9f-11ea-9335-75a04f32b64b.png)\r\n",
                ""
            ],
            "metadata": {
                "azdata_cell_guid": "5a3625d4-10a6-48dd-9d0b-ec3647d1f558"
            }
        },
        {
            "cell_type": "markdown",
            "source": [
                "## Contents\r\n",
                "> **Logins**\r\n",
                "> - Create logins (Query 1)\r\n",
                " - Find orphaned users (Query 2)\r\n",
                "- Fix Orphaned users  (Query 3)\r\n",
                "\r\n",
                "> **Passwords**\r\n",
                "- Update user passwords (Query 4)\r\n",
                "- Add user to sysadmin - AD Connection (Query 5)\r\n",
                "- Add use to server and sysadmin SQL user (Query 6)\r\n",
                "- Add User to database role - data reader (query 7)"
            ],
            "metadata": {
                "azdata_cell_guid": "15b5aa0f-3e92-4901-9fc3-1fdfedd15e1b"
            }
        },
        {
            "cell_type": "markdown",
            "source": [
                "### <U>**Security Adding / Updating permissions (Query 1)</U>**\r\n",
                "\r\n",
                ">CREATE LOGIN login_name { WITH [option_list1] | FROM {sources} }   \r\n",
                "    [option_list1] ::=  \r\n",
                "    PASSWORD = { 'password' | hashed_password HASHED } [ MUST_CHANGE ]  \r\n",
                "    [ , {option_list2} [ ,... ] ]  \r\n",
                "\r\n",
                ">{option_list2} ::=  \r\n",
                "    SID = sid  \r\n",
                "    | DEFAULT_DATABASE = database  \r\n",
                "    | DEFAULT_LANGUAGE = language  \r\n",
                "    | CHECK_EXPIRATION = { ON | OFF}  \r\n",
                "    | CHECK_POLICY = { ON | OFF}  \r\n",
                "    | CREDENTIAL = credential_name  \r\n",
                "\r\n",
                ">{sources} ::= \r\n",
                "    WINDOWS [ WITH <windows_options>[ ,... ] ]  \r\n",
                "    | CERTIFICATE certname  \r\n",
                "    | ASYMMETRIC KEY asym_key_name  \r\n",
                "\r\n",
                ">{windows_options} ::=  \r\n",
                "    DEFAULT_DATABASE = database  \r\n",
                "    | DEFAULT_LANGUAGE = language  "
            ],
            "metadata": {
                "azdata_cell_guid": "773d9147-4503-4188-821d-ca143bd8e18a"
            }
        },
        {
            "cell_type": "code",
            "source": [
                "CREATE LOGIN DecommissionRO WITH PASSWORD = '1hgcvkbEXzEKKz6LA0KU' \r\n",
                "GO"
            ],
            "metadata": {
                "azdata_cell_guid": "d77d1c29-6d12-42e2-9df4-127321a7c09e",
                "tags": [
                    "hide_input"
                ]
            },
            "outputs": [],
            "execution_count": null
        },
        {
            "cell_type": "markdown",
            "source": [
                "### **<u>Orphaned users Query(2) </u>**\r\n",
                "> Show current ophaned users in current DB"
            ],
            "metadata": {
                "azdata_cell_guid": "9d9c0831-847c-4611-a8c7-f05b12795348"
            }
        },
        {
            "cell_type": "code",
            "source": [
                "EXEC sp_change_users_login 'report'"
            ],
            "metadata": {
                "azdata_cell_guid": "072eec25-6f14-47fe-98c9-ee6a0f58619a",
                "tags": []
            },
            "outputs": [],
            "execution_count": null
        },
        {
            "cell_type": "markdown",
            "source": [
                "### <u>**Fixing Change users login (Query 3)**</u>\n",
                "\n",
                ">sp_change_users_login [ @Action = ] 'action' \n",
                " [ , [ @UserNamePattern = ] 'user' ] \n",
                " [ , [ @LoginName = ] 'login' ] \n",
                " [ , [ @Password = ] 'password' ] \n",
                "[;] \n",
                "\n",
                "\n",
                ">**Auto_Fix**\tLinks a user entry in the sys.database_principals system catalog view in the current database to a SQL Server login of the same name. If a login with the same name does not exist, one will be created. Examine the result from the Auto_Fix statement to confirm that the correct link is in fact made. Avoid using Auto_Fix in security-sensitive situations.\n",
                "When you use Auto_Fix, you must specify user and password if the login does not already exist, otherwise you must specify user but password will be ignored. login must be NULL. user must be a valid user in the current database. The login cannot have another user mapped to it. \n",
                "\n",
                ">**Report**\tLists the users and corresponding security identifiers (SID) in the current database that are not linked to any login. user, login, and password must be NULL or not specified.\n",
                ",To replace the report option with a query using the system tables, compare the entries in sys.server_prinicpals with the entries in sys.database_principals. \n",
                " \n",
                ">**Update_One**\tLinks the specified user in the current database to an existing SQL Server login. user and login must be specified. password must be NULL or not specified."
            ],
            "metadata": {
                "azdata_cell_guid": "ca96d9db-03a0-47fc-b8a8-f0b399b761d7"
            }
        },
        {
            "cell_type": "code",
            "source": [
                "EXEC sp_change_users_login 'Update_one','DecommissionRO','DecommissionRO'"
            ],
            "metadata": {
                "azdata_cell_guid": "4015347d-2d43-46e2-b97a-3e271efc0eab",
                "tags": [
                    "hide_input"
                ]
            },
            "outputs": [],
            "execution_count": null
        },
        {
            "cell_type": "markdown",
            "source": [
                "### **Update user password (Query 4)**\r\n",
                "\r\n",
                ">ALTER LOGIN login_name    \r\n",
                " {  \r\n",
                "  {status_option}  \r\n",
                "    | WITH {set_option} [ ,... ]    \r\n",
                "    | {cryptographic_credential_option}    \r\n",
                " }    \r\n",
                "[;]   \r\n",
                "\r\n",
                ">{status_option} ::=  \r\n",
                "    ENABLE | DISABLE  \r\n",
                "\r\n",
                ">{set_option} ::=  \r\n",
                "    PASSWORD = 'password' | hashed_password HASHED  \r\n",
                " [\r\n",
                "  OLD_PASSWORD = 'oldpassword' | {password_option} [<password_option> ]  \r\n",
                " ]\r\n",
                "     | DEFAULT_DATABASE = database  \r\n",
                "     | DEFAULT_LANGUAGE = language  \r\n",
                "     | NAME = login_name  \r\n",
                "     | CHECK_POLICY = { ON | OFF }  \r\n",
                "     | CHECK_EXPIRATION = { ON | OFF }  \r\n",
                "     | CREDENTIAL = credential_name  \r\n",
                "     | NO CREDENTIAL  \r\n",
                "\r\n",
                ">{password_option} ::=  \r\n",
                "  MUST_CHANGE | UNLOCK  \r\n",
                "\r\n",
                ">{cryptographic_credentials_option} ::=  \r\n",
                "  ADD CREDENTIAL credential_name  \r\n",
                "     | DROP CREDENTIAL credential_name  "
            ],
            "metadata": {
                "azdata_cell_guid": "0593ee7b-10f8-49d0-b93c-096fe34d8545"
            }
        },
        {
            "cell_type": "code",
            "source": [
                "USE [master]\r\n",
                "GO\r\n",
                "ALTER LOGIN [username] WITH PASSWORD=N'password'\r\n",
                "GO"
            ],
            "metadata": {
                "azdata_cell_guid": "a76f8874-31c5-4f4e-86d5-2eed3174cfac",
                "tags": [
                    "hide_input"
                ]
            },
            "outputs": [],
            "execution_count": null
        },
        {
            "cell_type": "markdown",
            "source": [
                "### <u>**Add user to sysadmin - AD Connection (Query 5)**</U>\r\n",
                " \r\n",
                ">ALTER SERVER ROLE server_role_name   \r\n",
                "{  \r\n",
                "    [ ADD MEMBER server_principal ]  \r\n",
                "    | [ DROP MEMBER server_principal ]  \r\n",
                "    | [ WITH NAME = new_server_role_name ]  \r\n",
                "} [ ; ]"
            ],
            "metadata": {
                "azdata_cell_guid": "0ddd6f0d-f463-4128-b993-434c0ab53144"
            }
        },
        {
            "cell_type": "code",
            "source": [
                "USE [master]\r\n",
                "GO\r\n",
                "ALTER SERVER ROLE [serveradmin] ADD MEMBER [ADGROUP]\r\n",
                "GO\r\n",
                ""
            ],
            "metadata": {
                "azdata_cell_guid": "c63a1d21-2cec-4c75-8654-57acf3bb2a27",
                "tags": [
                    "hide_input"
                ]
            },
            "outputs": [],
            "execution_count": null
        },
        {
            "cell_type": "markdown",
            "source": [
                "### <u>**Add use to server and sysadmin SQL user (Query 6)**</u>\r\n",
                "\r\n",
                "> sp_addsrvrolemember [ @loginame= ] 'login'   \r\n",
                "    , [ @rolename = ] 'role'  \r\n",
                "\r\n",
                "\r\n",
                "This feature is in maintenance mode and may be removed in a future version of Microsoft SQL Server. Avoid using this feature in new development work, and plan to modify applications that currently use this feature. Use ALTER SERVER ROLE instead."
            ],
            "metadata": {
                "azdata_cell_guid": "bf3c5e18-2c5b-45dd-8fa6-438fafa9a662"
            }
        },
        {
            "cell_type": "code",
            "source": [
                "USE [master]\r\n",
                "GO\r\n",
                "CREATE LOGIN [testuser] WITH PASSWORD=N'SecurePassword', DEFAULT_DATABASE=[master], CHECK_EXPIRATION=OFF, CHECK_POLICY=OFF\r\n",
                "GO"
            ],
            "metadata": {
                "azdata_cell_guid": "5dbc460c-1460-42c3-9854-0274dd0ffee4",
                "tags": [
                    "hide_input"
                ]
            },
            "outputs": [],
            "execution_count": null
        },
        {
            "cell_type": "code",
            "source": [
                "EXEC master..sp_addsrvrolemember @loginame = N'DOMAIN\\USERNAME', @rolename = N'sysadmin'\r\n",
                "GO\r\n",
                ""
            ],
            "metadata": {
                "azdata_cell_guid": "dac78a3a-ac11-4901-b80b-f12e2baac1ec",
                "tags": [
                    "hide_input"
                ]
            },
            "outputs": [],
            "execution_count": null
        },
        {
            "cell_type": "markdown",
            "source": [
                "\r\n",
                ">ALTER SERVER ROLE server_role_name  \r\n",
                "{ \r\n",
                "    [ ADD MEMBER server_principal ]  |  \r\n",
                "    [ DROP MEMBER server_principal ] |  \r\n",
                "    [ WITH NAME = new_server_role_name ]   \r\n",
                "} [ ; ] "
            ],
            "metadata": {
                "azdata_cell_guid": "7c492c72-a4d9-4c9e-8510-28fbdf814ed4"
            }
        },
        {
            "cell_type": "code",
            "source": [
                "\r\n",
                "ALTER SERVER ROLE [testuser] ADD MEMBER [DOMAIN\\USER]\r\n",
                "GO\r\n",
                ""
            ],
            "metadata": {
                "azdata_cell_guid": "e6fe670e-9458-403a-af2e-797f219de5ae",
                "tags": [
                    "hide_input"
                ]
            },
            "outputs": [],
            "execution_count": null
        },
        {
            "cell_type": "markdown",
            "source": [
                "## <U>**Add User to database role - data reader (query 7)** </U>\r\n",
                "\r\n",
                ">ALTER ROLE  role_name     \r\n",
                "{    \r\n",
                "    ADD MEMBER database_principal    \r\n",
                "    |  DROP MEMBER database_principal    \r\n",
                "    |  WITH NAME = new_name    \r\n",
                "}    \r\n",
                "[;]   \r\n",
                "\r\n",
                "> db_datareader, db_datawriter, db_accessadmin, db_backupoperator, db_denydatareader, db_denydatawriter,db_owner, db_securityadmin"
            ],
            "metadata": {
                "azdata_cell_guid": "c0f5fd40-0992-4ca0-81c8-3bdeef232bb4"
            }
        },
        {
            "cell_type": "code",
            "source": [
                "USE [DatabaseName]\r\n",
                "\r\n",
                "ALTER ROLE db_datareader ADD MEMBER [DOMAIN\\USERNAME]"
            ],
            "metadata": {
                "azdata_cell_guid": "2a17ecd1-e26b-4fd8-aa71-f66f7c07e0db",
                "tags": []
            },
            "outputs": [],
            "execution_count": null
        },
        {
            "cell_type": "markdown",
            "source": [
                "# [Next AG groups](file:///C:/sqlpresentations/2020/SQLBelgium/02_AvailabilityGroups.ipynb)"
            ],
            "metadata": {
                "azdata_cell_guid": "c99247d3-9332-41f2-bb28-63b9829d7cc3"
            }
        }
    ]
}