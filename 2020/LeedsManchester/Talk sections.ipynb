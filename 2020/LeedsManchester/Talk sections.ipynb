{
    "metadata": {
        "kernelspec": {
            "name": "SQL",
            "display_name": "SQL",
            "language": "sql"
        },
        "language_info": {
            "name": "sql",
            "version": ""
        }
    },
    "nbformat_minor": 2,
    "nbformat": 4,
    "cells": [
        {
            "cell_type": "markdown",
            "source": [
                "- Open ADS/ SSMS  \n",
                "    - Files\n",
                "- SSMS folders /projects\n",
                "    - Add in folder\n",
                "    - Add additional folder to workspace\n",
                "Open start notebook\n",
                "- Servers\n",
                "Server groups\n",
                "- Connect to servers\n",
                "    - Registry hack\n",
                "    - Settings.json file\n",
                "    - Colour Pallette\n",
                "    - Multiple profiles ctrl-j\n",
                "    - Folders\n",
                "    - Configuration files\n",
                "- Search\n",
                "    - Glenn (Query 28)\n",
                "    - Quick queries\n",
                "    - add headers to files ctrl-p\n",
                "- Power-shell\n",
                "- Source control\n",
                "- Extensions\n",
                "    - @installed, @outdated\n",
                "    - Admin Pack\n",
                "    - Settings\n",
                "-   Themes\n",
                "  shortcut keys - Adventureworks\n",
                "- Back to start notebook\n",
                "- Security Notebook - find query\n",
                "- AG groups not showing \n",
                "- Connectivity to SQL 2000\n",
                "- Short cut keys\n",
                "- Snippets\n",
                "     - sp_execute  \n",
                "     - sp_whoisactive  \n",
                "     - fomatting  \n",
                "     - query history  \n",
                "     - Sanddance   \n",
                "     - Redgate search  \n",
                "     - Snaphot creator  \n",
                "     - Data Scripter  "
            ],
            "metadata": {
                "azdata_cell_guid": "787abea9-bada-49f6-94f8-35e261a3dea6"
            }
        }
    ]
}