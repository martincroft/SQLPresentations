{
    "metadata": {
        "kernelspec": {
            "name": "SQL",
            "display_name": "SQL",
            "language": "sql"
        },
        "language_info": {
            "name": "sql",
            "version": ""
        }
    },
    "nbformat_minor": 2,
    "nbformat": 4,
    "cells": [
        {
            "cell_type": "markdown",
            "source": [
                "# Useful ADS Bits and pieces that made my life.. easy ish\r\n",
                "\r\n",
                ""
            ],
            "metadata": {
                "azdata_cell_guid": "dfd9fa26-96b3-4747-a5aa-ed9268642608"
            }
        },
        {
            "cell_type": "markdown",
            "source": [
                "# <u>Snippets</U>  (Extension)\r\n",
                ">Quickly create re-useable code in simple steps\r\n",
                "1. Open New SQL query window\r\n",
                "2. Ctrl-Shift+P\r\n",
                "3. Write some SQL you want to save\r\n",
                "4. Type QE Boost and select QE Boost: Save New snippet\r\n",
                "5. Give it a name starting SQL\r\n",
                "6. Enter description\r\n",
                "7. Then just Type in any query window sql.....name of the snippet\r\n",
                ">"
            ],
            "metadata": {
                "azdata_cell_guid": "c64fa86b-d9af-4fd3-a10f-ff996233df67"
            }
        },
        {
            "cell_type": "code",
            "source": [
                "IF (SELECT OBJECT_ID('Tempdb..#DatabaseAccess')) IS NOT NULL DROP TABLE #DatabaseAccess\r\n",
                "CREATE TABLE #DatabaseAccess\r\n",
                "(\r\n",
                "     ServerName VARCHAR(50)\r\n",
                "    ,DatabaseName VARCHAR(100)\r\n",
                "    ,ReportDate DATETIME\r\n",
                "    ,user_seeks BIGINT\r\n",
                "    ,user_scans BIGINT\r\n",
                "    ,user_lookups BIGINT\r\n",
                "    ,reads BIGINT\r\n",
                "    ,writes BIGINT\r\n",
                "    ,ServerStartDate DATETIME\r\n",
                "\r\n",
                ")\r\n",
                "\r\n",
                " \r\n",
                "EXEC sp_MSFOREACHDB 'USE [?]\r\n",
                "\r\n",
                "IF db_name() NOT IN (''TempDB'',''model'',''msdb'',''DBATools'',''master'')\r\n",
                "\r\n",
                "INSERT INTO #DatabaseAccess\r\n",
                "(\r\n",
                "     ServerName\r\n",
                "    ,DatabaseName\r\n",
                "    ,ReportDate\r\n",
                "    ,user_seeks\r\n",
                "    ,user_scans\r\n",
                "    ,user_lookups\r\n",
                "    ,reads\r\n",
                "    ,writes\r\n",
                "    ,ServerStartDate\r\n",
                "\r\n",
                ")\r\n",
                "\r\n",
                "\r\n",
                "SELECT      \r\n",
                "    @@ServerName AS ServerName,\r\n",
                "    db_name() AS DatabaseName,\r\n",
                "    CAST(GETDATE() as DATETIME) as ReportDate,\r\n",
                "    SUM(user_seeks) AS user_seeks,   \r\n",
                "    SUM(user_scans) AS user_scans,\r\n",
                "    SUM(user_lookups) AS user_scans,\r\n",
                "    reads=SUM(user_seeks + user_scans + user_lookups),         \r\n",
                "    writes =  SUM(user_updates),   \r\n",
                "    ServerStartDate = (select login_time from master.dbo.sysprocesses where spid =1)\r\n",
                "FROM \r\n",
                "    sys.dm_db_index_usage_stats s        \r\n",
                "INNER JOIN       \r\n",
                "    sys.indexes i ON i.index_id = s.index_id AND s.object_id = i.object_id         \r\n",
                "INNER JOIN       \r\n",
                "    sys.objects o on s.object_id = o.object_id      \r\n",
                "INNER JOIN       \r\n",
                "    sys.schemas c on o.schema_id = c.schema_id  \r\n",
                "INNER JOIN    \r\n",
                "     sys.partitions AS p ON p.OBJECT_ID = i.OBJECT_ID AND p.index_id = i.index_id  \r\n",
                "INNER JOIN   \r\n",
                "     sys.allocation_units AS a ON a.container_id = p.partition_id  \r\n",
                "WHERE       \r\n",
                "        (OBJECTPROPERTY(s.object_id,''IsUserTable'') = 1  or OBJECTPROPERTY(s.object_id,''IsView'') = 1)\r\n",
                "     AND       \r\n",
                "        i.name IS NOT NULL AND s.database_id = DB_ID() \r\n",
                "'\t\r\n",
                "\r\n",
                "SELECT \r\n",
                "    ServerName\r\n",
                "    ,DatabaseName\r\n",
                "    ,ReportDate\r\n",
                "    ,COALESCE(user_seeks,0) AS user_seeks\r\n",
                "    ,COALESCE(user_scans,0) AS user_scans\r\n",
                "    ,COALESCE(user_lookups,0) AS user_lookups\r\n",
                "    ,COALESCE(reads,0) AS reads\r\n",
                "    ,COALESCE(writes,0) AS writes\r\n",
                "    ,ServerStartDate\r\n",
                " FROM #DatabaseAccess\r\n",
                "\r\n",
                "\r\n",
                ""
            ],
            "metadata": {
                "azdata_cell_guid": "90d5bd8c-d443-4e21-8eb2-5a77f3a505bb",
                "tags": [
                    "hide_input"
                ]
            },
            "outputs": [],
            "execution_count": null
        },
        {
            "cell_type": "markdown",
            "source": [
                "# Some more useful snippets\r\n",
                "\r\n",
                "> ## Index stats"
            ],
            "metadata": {
                "azdata_cell_guid": "d1d24dfc-08f1-4a49-91f3-f508a41f99c6"
            }
        },
        {
            "cell_type": "code",
            "source": [
                "IF (SELECT OBJECT_ID('Tempdb..#DatabaseAccess')) IS NOT NULL DROP TABLE #DatabaseAccess\r\n",
                "CREATE TABLE #DatabaseAccess\r\n",
                "(\r\n",
                "     ServerName VARCHAR(50)\r\n",
                "    ,DatabaseName VARCHAR(100)\r\n",
                "    ,ReportDate DATETIME\r\n",
                "    ,user_seeks BIGINT\r\n",
                "    ,user_scans BIGINT\r\n",
                "    ,user_lookups BIGINT\r\n",
                "    ,reads BIGINT\r\n",
                "    ,writes BIGINT\r\n",
                "    ,ServerStartDate DATETIME\r\n",
                "\r\n",
                ")\r\n",
                "\r\n",
                " \r\n",
                "EXEC sp_MSFOREACHDB 'USE [?]\r\n",
                "\r\n",
                "IF db_name() NOT IN (''TempDB'',''model'',''msdb'',''DBATools'',''master'')\r\n",
                "\r\n",
                "INSERT INTO #DatabaseAccess\r\n",
                "(\r\n",
                "     ServerName\r\n",
                "    ,DatabaseName\r\n",
                "    ,ReportDate\r\n",
                "    ,user_seeks\r\n",
                "    ,user_scans\r\n",
                "    ,user_lookups\r\n",
                "    ,reads\r\n",
                "    ,writes\r\n",
                "    ,ServerStartDate\r\n",
                "\r\n",
                ")\r\n",
                "\r\n",
                "\r\n",
                "SELECT      \r\n",
                "    @@ServerName AS ServerName,\r\n",
                "    db_name() AS DatabaseName,\r\n",
                "    CAST(GETDATE() as DATETIME) as ReportDate,\r\n",
                "    SUM(user_seeks) AS user_seeks,   \r\n",
                "    SUM(user_scans) AS user_scans,\r\n",
                "    SUM(user_lookups) AS user_scans,\r\n",
                "    reads=SUM(user_seeks + user_scans + user_lookups),         \r\n",
                "    writes =  SUM(user_updates),   \r\n",
                "    ServerStartDate = (select login_time from master.dbo.sysprocesses where spid =1)\r\n",
                "FROM \r\n",
                "    sys.dm_db_index_usage_stats s        \r\n",
                "INNER JOIN       \r\n",
                "    sys.indexes i ON i.index_id = s.index_id AND s.object_id = i.object_id         \r\n",
                "INNER JOIN       \r\n",
                "    sys.objects o on s.object_id = o.object_id      \r\n",
                "INNER JOIN       \r\n",
                "    sys.schemas c on o.schema_id = c.schema_id  \r\n",
                "INNER JOIN    \r\n",
                "     sys.partitions AS p ON p.OBJECT_ID = i.OBJECT_ID AND p.index_id = i.index_id  \r\n",
                "INNER JOIN   \r\n",
                "     sys.allocation_units AS a ON a.container_id = p.partition_id  \r\n",
                "WHERE       \r\n",
                "        (OBJECTPROPERTY(s.object_id,''IsUserTable'') = 1  or OBJECTPROPERTY(s.object_id,''IsView'') = 1)\r\n",
                "     AND       \r\n",
                "        i.name IS NOT NULL AND s.database_id = DB_ID() \r\n",
                "'\t\r\n",
                "\r\n",
                "SELECT \r\n",
                "    ServerName\r\n",
                "    ,DatabaseName\r\n",
                "    ,ReportDate\r\n",
                "    ,COALESCE(user_seeks,0) AS user_seeks\r\n",
                "    ,COALESCE(user_scans,0) AS user_scans\r\n",
                "    ,COALESCE(user_lookups,0) AS user_lookups\r\n",
                "    ,COALESCE(reads,0) AS reads\r\n",
                "    ,COALESCE(writes,0) AS writes\r\n",
                "    ,ServerStartDate\r\n",
                " FROM #DatabaseAccess\r\n",
                "\r\n",
                "\r\n",
                ""
            ],
            "metadata": {
                "azdata_cell_guid": "ab793342-a41a-46bb-bb03-96002e1f82ac",
                "tags": [
                    "hide_input"
                ]
            },
            "outputs": [],
            "execution_count": null
        },
        {
            "cell_type": "markdown",
            "source": [
                "# Job steps snippet\r\n",
                "> ## Easy way to see Jobsteps with blank lines added to aid clarity"
            ],
            "metadata": {
                "azdata_cell_guid": "3e98043e-a57c-47d6-973a-682fc982bff3"
            }
        },
        {
            "cell_type": "code",
            "source": [
                "\r\n",
                "WITH CTE_JobSteps\r\n",
                "AS\r\n",
                "(\r\n",
                "SELECT sj.Name,sj.[description],sjs.step_name,sjs.step_id,sjs.command,sjs.subsystem,sjs.database_name, ROW_NUMBER() OVER (Partition by sj.Name  Order By sj.Name,sjs.step_id ) AS RowID, 1 AS Show\r\n",
                "FROM msdb.dbo.sysjobs sj\r\n",
                "INNER JOIN msdb.dbo.sysjobsteps sjs ON sjs.job_id =sj.job_id\r\n",
                "WHERE sj.enabled =1\r\n",
                "UNION ALL\r\n",
                "SELECT sj.Name ,'' AS description,'' AS step_name,'' AS step_id,'' AS command,'' AS subsystem,'' AS database_name,MAX(step_id)+1 AS RowID,0 AS Show\r\n",
                "FROM msdb.dbo.sysjobs sj\r\n",
                "INNER JOIN msdb.dbo.sysjobsteps sjs ON sjs.job_id =sj.job_id\r\n",
                "WHERE sj.enabled =1\r\n",
                "GROUP BY sj.name\r\n",
                ")\r\n",
                "SELECT \r\n",
                "    CASE WHEN show =1 THEN  Name ELSE '' END AS Name\r\n",
                "    ,CASE WHEN show =1 THEN  CAST(Step_id AS CHAR(4)) ELSE '' END AS Step_id\r\n",
                "    ,step_name\r\n",
                "    ,command\r\n",
                "    ,subsystem\r\n",
                "    ,database_name\r\n",
                "FROM CTE_JobSteps c\r\n",
                "ORDER BY c.Name,c.RowID"
            ],
            "metadata": {
                "azdata_cell_guid": "3943d635-edf5-411d-bba9-f8f3f8a4db5d",
                "tags": [
                    "hide_input"
                ]
            },
            "outputs": [],
            "execution_count": null
        },
        {
            "cell_type": "markdown",
            "source": [
                "## Converting sp_execute \r\n",
                "> ### (Shift+Ctrl+P) and search for convert"
            ],
            "metadata": {
                "azdata_cell_guid": "70bf6402-2bac-42ae-85b9-9efc4f4f3841"
            }
        },
        {
            "cell_type": "code",
            "source": [
                "DECLARE @P1 varchar(50),@P2 int,@P3 int,@P4 varchar(50),@P5 bit,@P6 bit,@P7 bit,@P8 bit,@P9 bit,@P10 bit,@P11 bit,@P12 bit,@P13 nvarchar(50),@P14 int,@P15 int,@P16 nvarchar(1),@P17 bit,@P18 int,@P19 datetime,@P20 bit,@P21 bit,@P22 nvarchar(15),@P23 binary(250),@P24 int,@P25 datetime\r\n",
                "SET @P1='1234'\r\n",
                "SET @P2=666\r\n",
                "SET @P3=514\r\n",
                "SET @P4='SD'\r\n",
                "SET @P5=0\r\n",
                "SET @P6=0\r\n",
                "SET @P7=0\r\n",
                "SET @P8=0\r\n",
                "SET @P9=0\r\n",
                "SET @P10=0\r\n",
                "SET @P11=0\r\n",
                "SET @P12=0\r\n",
                "SET @P13=N'11152930'\r\n",
                "SET @P14=10\r\n",
                "SET @P15=120\r\n",
                "SET @P16=N'A'\r\n",
                "SET @P17=0\r\n",
                "SET @P18=2100\r\n",
                "SET @P19='2022-04-18 10:29:22.390'\r\n",
                "SET @P20=0\r\n",
                "SET @P21=1\r\n",
                "SET @P22=N'00000000'\r\n",
                "SET @P23=0x010500000000005000000833DXX61199B978828B85E0E00000000000000000000000000\r\n",
                "SET @P24=120\r\n",
                "SET @P25='2001-12-14 00:00:00'\r\n",
                "\r\n",
                "UPDATE \"dbo\".\"ExampleTable\" SET \"PassportNumber\"=@P1 WHERE \"Emp_No\" = @P2 AND \"PayrollID\" = @P3 AND \"UKNO\" = @P4 AND \"PassportNumber\" IS NULL AND \"Time1\" IS NULL AND \"Time2\" IS NULL AND \"Time1_FE\" IS NULL AND \"Time2_FE\" IS NULL AND \"Time1_Rate\" IS NULL AND \"Time2_Rate\" IS NULL AND \"Phone_Book_ID\" IS NULL AND \"Hide_From_PR\" = @P5 AND \"Hide_From_Grid\" = @P6 AND \"Requires_PC\" = @P7 AND \"Spare_2\" = @P8 AND \"Spare_3\"\r\n",
                "= @P9 AND \"Spare_4\" = @P10 AND \"Spare_5\" = @P11 AND \"Spare_6\" = @P12 AND \"Employee_Ref\" IS NULL AND \"NI_NO\" IS NULL AND \"Payroll_Number\" IS NULL AND \"Passport_1_No\" = @P13 AND \"Passport_1_Country\" = @P14 AND \"Passport_2_No\" IS NULL AND \"Country\" = @P15 AND \"Passport_3_No\" IS NULL AND \"Passport_3_Country\" IS NULL AND \"DACEE_ID\" IS NULL AND \"Bel_Nat_No\" IS NULL AND \"Bel_Payroll_Number\" IS NULL AND \"Salary\" IS NULL AND \"Currency\" IS NULL AND \"NI_Code\" = @P16 AND \"LWB\" = @P17 AND \"_LWB_Changed_By\" = @P18 AND \"_LWB_Changed_Date\" = @P19 AND \"XY\" = @P20 AND \"Partners_Address_Book\" = @P21 AND \"ABC\" IS NULL AND \"PRT\" IS NULL AND \"SAP_ID\" = @P22 AND \"SID\" = @P23 AND \"X_Code\" IS NULL AND \"VAT_Code\" IS NULL AND \"CCMX\" IS NULL AND \"Country_of_birth\" = @P24 AND \"ExpiryDate\" = @P25 AND \"ExpiryDate2\" IS NULL AND \"ExpiryDate3\" IS NULL\r\n",
                ""
            ],
            "metadata": {
                "azdata_cell_guid": "0cda340d-e2a2-49e7-ae0b-0c8721f6e7ec",
                "tags": []
            },
            "outputs": [],
            "execution_count": null
        },
        {
            "cell_type": "markdown",
            "source": [
                "# Formatting SQL\r\n",
                ">## ctrl+shift+ P type poor SQL or set a hotkey (Shift-I) (Extension)"
            ],
            "metadata": {
                "azdata_cell_guid": "0af76d54-d783-42e6-875a-dfcfeed83c27"
            }
        },
        {
            "cell_type": "code",
            "source": [
                "-- List columns in all tables whose name is like 'TableName'\r\n",
                "SELECT TableName = tbl.table_schema + '.' + tbl.table_name\r\n",
                "    , ColumnName = col.column_name\r\n",
                "    , ColumnDataType = col.data_type\r\n",
                "FROM INFORMATION_SCHEMA.TABLES tbl\r\n",
                "INNER JOIN INFORMATION_SCHEMA.COLUMNS col\r\n",
                "    ON col.table_name = tbl.table_name\r\n",
                "        AND col.table_schema = tbl.table_schema\r\n",
                "WHERE tbl.table_type = 'base table'\r\n",
                "    AND tbl.table_name LIKE '%TableName%'\r\n",
                "GO\r\n",
                "\r\n",
                "SELECT e.[BusinessEntityID]\r\n",
                "    , p.[Title]\r\n",
                "    , p.[FirstName]\r\n",
                "    , p.[MiddleName]\r\n",
                "    , p.[LastName]\r\n",
                "    , p.[Suffix]\r\n",
                "    , e.[JobTitle]\r\n",
                "    , pp.[PhoneNumber]\r\n",
                "    , pnt.[Name] AS [PhoneNumberType]\r\n",
                "    , ea.[EmailAddress]\r\n",
                "    , p.[EmailPromotion]\r\n",
                "    , a.[AddressLine1]\r\n",
                "    , a.[AddressLine2]\r\n",
                "    , a.[City]\r\n",
                "    , sp.[Name] AS [StateProvinceName]\r\n",
                "    , a.[PostalCode]\r\n",
                "    , cr.[Name] AS [CountryRegionName]\r\n",
                "    , p.[AdditionalContactInfo]\r\n",
                "FROM [HumanResources].[Employee] e\r\n",
                "INNER JOIN [Person].[Person] p\r\n",
                "    ON p.[BusinessEntityID] = e.[BusinessEntityID]\r\n",
                "INNER JOIN [Person].[BusinessEntityAddress] bea\r\n",
                "    ON bea.[BusinessEntityID] = e.[BusinessEntityID]\r\n",
                "INNER JOIN [Person].[Address] a\r\n",
                "    ON a.[AddressID] = bea.[AddressID]\r\n",
                "INNER JOIN [Person].[StateProvince] sp\r\n",
                "    ON sp.[StateProvinceID] = a.[StateProvinceID]\r\n",
                "INNER JOIN [Person].[CountryRegion] cr\r\n",
                "    ON cr.[CountryRegionCode] = sp.[CountryRegionCode]\r\n",
                "LEFT OUTER JOIN [Person].[PersonPhone] pp\r\n",
                "    ON pp.BusinessEntityID = p.[BusinessEntityID]\r\n",
                "LEFT OUTER JOIN [Person].[PhoneNumberType] pnt\r\n",
                "    ON pp.[PhoneNumberTypeID] = pnt.[PhoneNumberTypeID]\r\n",
                "LEFT OUTER JOIN [Person].[EmailAddress] ea\r\n",
                "    ON p.[BusinessEntityID] = ea.[BusinessEntityID];\r\n",
                "GO\r\n",
                "\r\n",
                "\r\n",
                ""
            ],
            "metadata": {
                "azdata_cell_guid": "7ef7e9c6-eccb-4aa3-9b33-d513862aeaf3",
                "tags": []
            },
            "outputs": [],
            "execution_count": null
        },
        {
            "cell_type": "markdown",
            "source": [
                "# Generating SQL Scripts\r\n",
                "> ## Ability to script a table and specify where clause (extention)\r\n",
                "1. Install extension\r\n",
                "2. Go to server and drillk through to table and right click select script as"
            ],
            "metadata": {
                "azdata_cell_guid": "02809a54-7b97-4331-aeb9-93a9c5e07eda"
            }
        },
        {
            "cell_type": "markdown",
            "source": [
                "# Running a Query you've aready ran\r\n",
                "> ## Ability execute previously ran code (extention)\r\n",
                "1. Install extension\r\n",
                "2. Type ctrl-j and select Query History"
            ],
            "metadata": {
                "azdata_cell_guid": "087905fb-1a42-4e7c-a618-db49b2b2aac3"
            }
        }
    ]
}