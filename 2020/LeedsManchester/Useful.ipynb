{
    "metadata": {
        "kernelspec": {
            "name": "SQL",
            "display_name": "SQL",
            "language": "sql"
        },
        "language_info": {
            "name": "sql",
            "version": ""
        }
    },
    "nbformat_minor": 2,
    "nbformat": 4,
    "cells": [
        {
            "cell_type": "markdown",
            "source": [
                "# Useful ADS Bits and pieces that made my life.. easy ish\r\n",
                "\r\n",
                "![hearts](https://user-images.githubusercontent.com/30621653/76018449-f951de00-5f17-11ea-99a3-fb305583abfc.png)"
            ],
            "metadata": {
                "azdata_cell_guid": "dfd9fa26-96b3-4747-a5aa-ed9268642608"
            }
        },
        {
            "cell_type": "markdown",
            "source": [
                "# <u>Snippets</U>  (Extension)\r\n",
                ">Quickly create re-useable code in simple steps\r\n",
                "1. Open New SQL query window\r\n",
                "2. Ctrl-Shift+P\r\n",
                "3. Write some SQL you want to save\r\n",
                "4. Type QE Boost and select QE Boost: Save New snippet\r\n",
                "5. Give it a name starting SQL\r\n",
                "6. Enter description\r\n",
                "7. Then just Type in any query window sql.....name of the snippet\r\n",
                ">"
            ],
            "metadata": {
                "azdata_cell_guid": "c64fa86b-d9af-4fd3-a10f-ff996233df67"
            }
        },
        {
            "cell_type": "code",
            "source": [
                "\r\n",
                ""
            ],
            "metadata": {
                "azdata_cell_guid": "90d5bd8c-d443-4e21-8eb2-5a77f3a505bb",
                "tags": [
                    "hide_input"
                ]
            },
            "outputs": [],
            "execution_count": null
        },
        {
            "cell_type": "markdown",
            "source": [
                "# Some more useful snippets\r\n",
                "\r\n",
                "> ## Index stats"
            ],
            "metadata": {
                "azdata_cell_guid": "d1d24dfc-08f1-4a49-91f3-f508a41f99c6"
            }
        },
        {
            "cell_type": "code",
            "source": [
                "IF (SELECT OBJECT_ID('Tempdb..#DatabaseAccess')) IS NOT NULL DROP TABLE #DatabaseAccess\r\n",
                "CREATE TABLE #DatabaseAccess\r\n",
                "(\r\n",
                "     ServerName VARCHAR(50)\r\n",
                "    ,DatabaseName VARCHAR(100)\r\n",
                "    ,ReportDate DATETIME\r\n",
                "    ,user_seeks BIGINT\r\n",
                "    ,user_scans BIGINT\r\n",
                "    ,user_lookups BIGINT\r\n",
                "    ,reads BIGINT\r\n",
                "    ,writes BIGINT\r\n",
                "    ,ServerStartDate DATETIME\r\n",
                "\r\n",
                ")\r\n",
                "\r\n",
                " \r\n",
                "EXEC sp_MSFOREACHDB 'USE [?]\r\n",
                "\r\n",
                "IF db_name() NOT IN (''TempDB'',''model'',''msdb'',''DBATools'',''master'')\r\n",
                "\r\n",
                "INSERT INTO #DatabaseAccess\r\n",
                "(\r\n",
                "     ServerName\r\n",
                "    ,DatabaseName\r\n",
                "    ,ReportDate\r\n",
                "    ,user_seeks\r\n",
                "    ,user_scans\r\n",
                "    ,user_lookups\r\n",
                "    ,reads\r\n",
                "    ,writes\r\n",
                "    ,ServerStartDate\r\n",
                "\r\n",
                ")\r\n",
                "\r\n",
                "\r\n",
                "SELECT      \r\n",
                "    @@ServerName AS ServerName,\r\n",
                "    db_name() AS DatabaseName,\r\n",
                "    CAST(GETDATE() as DATETIME) as ReportDate,\r\n",
                "    SUM(user_seeks) AS user_seeks,   \r\n",
                "    SUM(user_scans) AS user_scans,\r\n",
                "    SUM(user_lookups) AS user_scans,\r\n",
                "    reads=SUM(user_seeks + user_scans + user_lookups),         \r\n",
                "    writes =  SUM(user_updates),   \r\n",
                "    ServerStartDate = (select login_time from master.dbo.sysprocesses where spid =1)\r\n",
                "FROM \r\n",
                "    sys.dm_db_index_usage_stats s        \r\n",
                "INNER JOIN       \r\n",
                "    sys.indexes i ON i.index_id = s.index_id AND s.object_id = i.object_id         \r\n",
                "INNER JOIN       \r\n",
                "    sys.objects o on s.object_id = o.object_id      \r\n",
                "INNER JOIN       \r\n",
                "    sys.schemas c on o.schema_id = c.schema_id  \r\n",
                "INNER JOIN    \r\n",
                "     sys.partitions AS p ON p.OBJECT_ID = i.OBJECT_ID AND p.index_id = i.index_id  \r\n",
                "INNER JOIN   \r\n",
                "     sys.allocation_units AS a ON a.container_id = p.partition_id  \r\n",
                "WHERE       \r\n",
                "        (OBJECTPROPERTY(s.object_id,''IsUserTable'') = 1  or OBJECTPROPERTY(s.object_id,''IsView'') = 1)\r\n",
                "     AND       \r\n",
                "        i.name IS NOT NULL AND s.database_id = DB_ID() \r\n",
                "'\t\r\n",
                "\r\n",
                "SELECT \r\n",
                "    ServerName\r\n",
                "    ,DatabaseName\r\n",
                "    ,ReportDate\r\n",
                "    ,COALESCE(user_seeks,0) AS user_seeks\r\n",
                "    ,COALESCE(user_scans,0) AS user_scans\r\n",
                "    ,COALESCE(user_lookups,0) AS user_lookups\r\n",
                "    ,COALESCE(reads,0) AS reads\r\n",
                "    ,COALESCE(writes,0) AS writes\r\n",
                "    ,ServerStartDate\r\n",
                " FROM #DatabaseAccess\r\n",
                "\r\n",
                "\r\n",
                ""
            ],
            "metadata": {
                "azdata_cell_guid": "ab793342-a41a-46bb-bb03-96002e1f82ac",
                "tags": [
                    "hide_input"
                ]
            },
            "outputs": [],
            "execution_count": null
        },
        {
            "cell_type": "markdown",
            "source": [
                "# Job steps snippet\r\n",
                "> ## Easy way to see Jobsteps with blank lines added to aid clarity"
            ],
            "metadata": {
                "azdata_cell_guid": "3e98043e-a57c-47d6-973a-682fc982bff3"
            }
        },
        {
            "cell_type": "code",
            "source": [
                "\r\n",
                "WITH CTE_JobSteps\r\n",
                "AS\r\n",
                "(\r\n",
                "SELECT sj.Name,sj.[description],sjs.step_name,sjs.step_id,sjs.command,sjs.subsystem,sjs.database_name, ROW_NUMBER() OVER (Partition by sj.Name  Order By sj.Name,sjs.step_id ) AS RowID, 1 AS Show\r\n",
                "FROM msdb.dbo.sysjobs sj\r\n",
                "INNER JOIN msdb.dbo.sysjobsteps sjs ON sjs.job_id =sj.job_id\r\n",
                "WHERE sj.enabled =1\r\n",
                "UNION ALL\r\n",
                "SELECT sj.Name ,'' AS description,'' AS step_name,'' AS step_id,'' AS command,'' AS subsystem,'' AS database_name,MAX(step_id)+1 AS RowID,0 AS Show\r\n",
                "FROM msdb.dbo.sysjobs sj\r\n",
                "INNER JOIN msdb.dbo.sysjobsteps sjs ON sjs.job_id =sj.job_id\r\n",
                "WHERE sj.enabled =1\r\n",
                "GROUP BY sj.name\r\n",
                ")\r\n",
                "SELECT \r\n",
                "    CASE WHEN show =1 THEN  Name ELSE '' END AS Name\r\n",
                "    ,CASE WHEN show =1 THEN  CAST(Step_id AS CHAR(4)) ELSE '' END AS Step_id\r\n",
                "    ,step_name\r\n",
                "    ,command\r\n",
                "    ,subsystem\r\n",
                "    ,database_name\r\n",
                "FROM CTE_JobSteps c\r\n",
                "ORDER BY c.Name,c.RowID"
            ],
            "metadata": {
                "azdata_cell_guid": "3943d635-edf5-411d-bba9-f8f3f8a4db5d",
                "tags": [
                    "hide_input"
                ]
            },
            "outputs": [],
            "execution_count": null
        },
        {
            "cell_type": "markdown",
            "source": [
                "## Converting sp_execute \r\n",
                "> ### (Shift+Ctrl+P) and search for convert"
            ],
            "metadata": {
                "azdata_cell_guid": "70bf6402-2bac-42ae-85b9-9efc4f4f3841"
            }
        },
        {
            "cell_type": "code",
            "source": [
                ""
            ],
            "metadata": {
                "azdata_cell_guid": "0cda340d-e2a2-49e7-ae0b-0c8721f6e7ec",
                "tags": []
            },
            "outputs": [],
            "execution_count": null
        },
        {
            "cell_type": "markdown",
            "source": [
                "# Formatting SQL\r\n",
                ">## ctrl+shift+ P type poor SQL or set a hotkey (Shift-I) (Extension)"
            ],
            "metadata": {
                "azdata_cell_guid": "0af76d54-d783-42e6-875a-dfcfeed83c27"
            }
        },
        {
            "cell_type": "code",
            "source": [
                "-- List columns in all tables whose name is like 'TableName'\r\n",
                "SELECT \r\n",
                "    TableName = tbl.table_schema + '.' + tbl.table_name, \r\n",
                "    ColumnName = col.column_name, \r\n",
                "    ColumnDataType = col.data_type\r\n",
                "FROM INFORMATION_SCHEMA.TABLES tbl\r\n",
                "INNER JOIN INFORMATION_SCHEMA.COLUMNS col \r\n",
                "    ON col.table_name = tbl.table_name\r\n",
                "    AND col.table_schema = tbl.table_schema\r\n",
                "\r\n",
                "WHERE tbl.table_type = 'base table' and tbl.table_name like '%TableName%'\r\n",
                "GO\r\n",
                "SELECT   e.[BusinessEntityID],p.[Title],p.[FirstName],p.[MiddleName] ,p.[LastName],p.[Suffix],e.[JobTitle]  ,pp.[PhoneNumber]\r\n",
                "    ,pnt.[Name] AS [PhoneNumberType],ea.[EmailAddress] ,p.[EmailPromotion]\r\n",
                "    ,a.[AddressLine1] ,a.[AddressLine2],a.[City] ,sp.[Name] AS [StateProvinceName] \r\n",
                "    ,a.[PostalCode],cr.[Name] AS [CountryRegionName]   ,p.[AdditionalContactInfo]\r\n",
                "FROM [HumanResources].[Employee] e \tINNER JOIN [Person].[Person] p\tON p.[BusinessEntityID] = e.[BusinessEntityID]\r\n",
                "    INNER JOIN [Person].[BusinessEntityAddress] bea     ON bea.[BusinessEntityID] = e.[BusinessEntityID]     INNER JOIN [Person].[Address] a \r\n",
                "    ON a.[AddressID] = bea.[AddressID]    INNER JOIN [Person].[StateProvince] sp \r\n",
                "    ON sp.[StateProvinceID] = a.[StateProvinceID]    INNER JOIN [Person].[CountryRegion] cr \r\n",
                "    ON cr.[CountryRegionCode] = sp.[CountryRegionCode]   \r\n",
                " LEFT OUTER JOIN [Person].[PersonPhone] pp\r\n",
                "ON pp.BusinessEntityID = p.[BusinessEntityID]    \r\n",
                "LEFT OUTER JOIN [Person].[PhoneNumberType] pnt\r\n",
                "    ON pp.[PhoneNumberTypeID] = pnt.[PhoneNumberTypeID]\r\n",
                "    LEFT OUTER JOIN [Person].[EmailAddress] ea\r\n",
                "    ON p.[BusinessEntityID] = ea.[BusinessEntityID];\r\n",
                "GO\r\n",
                ""
            ],
            "metadata": {
                "azdata_cell_guid": "7ef7e9c6-eccb-4aa3-9b33-d513862aeaf3",
                "tags": [
                    "hide_input"
                ]
            },
            "outputs": [],
            "execution_count": null
        },
        {
            "cell_type": "markdown",
            "source": [
                "# Generating SQL Scripts\r\n",
                "> ## Ability to script a table and specify where clause (extention)\r\n",
                "1. Install extension\r\n",
                "2. Go to server and drillk through to table and right click select script as"
            ],
            "metadata": {
                "azdata_cell_guid": "02809a54-7b97-4331-aeb9-93a9c5e07eda"
            }
        },
        {
            "cell_type": "markdown",
            "source": [
                "# Running a Query you've aready ran\r\n",
                "> ## Ability execute previously ran code (extention)\r\n",
                "1. Install extension\r\n",
                "2. Type ctrl-j and select Query History"
            ],
            "metadata": {
                "azdata_cell_guid": "087905fb-1a42-4e7c-a618-db49b2b2aac3"
            }
        }
    ]
}