{
    "metadata": {
        "kernelspec": {
            "name": "SQL",
            "display_name": "SQL",
            "language": "sql"
        },
        "language_info": {
            "name": "sql",
            "version": ""
        }
    },
    "nbformat_minor": 2,
    "nbformat": 4,
    "cells": [
        {
            "cell_type": "markdown",
            "source": [
                "![image](https://user-images.githubusercontent.com/30621653/74775653-0d49de80-528e-11ea-8413-375344a07c8f.png)\r\n",
                "\r\n",
                "![image](https://user-images.githubusercontent.com/30621653/74775423-9876a480-528d-11ea-8bf5-8bdb07862766.png)"
            ],
            "metadata": {
                "azdata_cell_guid": "0fb02095-6294-479f-80ea-440109a61ed9"
            }
        },
        {
            "cell_type": "markdown",
            "source": [
                "# [PowerShell Notebooks](file:///C:/sqlpresentations/2020/SQLBelgium/PowerShell_SQL_Scripts.ipynb)"
            ],
            "metadata": {
                "azdata_cell_guid": "0d494c7a-0cb2-4a85-ae92-00f0223cb263"
            }
        }
    ]
}