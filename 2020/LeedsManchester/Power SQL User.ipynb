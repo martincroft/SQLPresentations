{
    "metadata": {
        "kernelspec": {
            "name": "SQL",
            "display_name": "SQL",
            "language": "sql"
        },
        "language_info": {
            "name": "sql",
            "version": ""
        }
    },
    "nbformat_minor": 2,
    "nbformat": 4,
    "cells": [
        {
            "cell_type": "markdown",
            "source": [
                "# Power SQL User "
            ],
            "metadata": {
                "azdata_cell_guid": "1bfad9d4-34c0-495d-b466-e791cae63c3d"
            }
        },
        {
            "cell_type": "markdown",
            "source": [
                ""
            ],
            "metadata": {
                "azdata_cell_guid": "f2525fe5-8fba-4bef-b821-09cecdd08a51"
            }
        }
    ]
}