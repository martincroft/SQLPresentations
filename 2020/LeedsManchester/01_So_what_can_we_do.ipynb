{
    "metadata": {
        "kernelspec": {
            "name": "SQL",
            "display_name": "SQL",
            "language": "sql"
        },
        "language_info": {
            "name": "sql",
            "version": ""
        }
    },
    "nbformat_minor": 2,
    "nbformat": 4,
    "cells": [
        {
            "cell_type": "markdown",
            "source": [
                "\r\n",
                "![image](https://user-images.githubusercontent.com/30621653/76352506-0fd8aa80-6307-11ea-9091-0c9067609086.png)\r\n",
                "\r\n",
                "\r\n",
                "![hearts](https://user-images.githubusercontent.com/30621653/76018449-f951de00-5f17-11ea-99a3-fb305583abfc.png)"
            ],
            "metadata": {
                "azdata_cell_guid": "d59792a5-c847-49ca-9f54-d2a4869519e8"
            }
        },
        {
            "cell_type": "markdown",
            "source": [
                "# Blog post on creating dashboard https://blog.sqlserversolutions.co.uk/2020/03/05/azure-data-studio-database-status-dashboard-5-31/"
            ],
            "metadata": {
                "azdata_cell_guid": "53b16806-e4bc-4b2e-a28c-795622813a2c"
            }
        },
        {
            "cell_type": "markdown",
            "source": [
                "# [Notebooks Basics](file:///C:/sqlpresentations/2020/LeedsManchester/NotebookBasics.ipynb)\r\n",
                ""
            ],
            "metadata": {
                "azdata_cell_guid": "d31b31fc-31a6-4150-9de7-d44fd29301a4"
            }
        }
    ]
}