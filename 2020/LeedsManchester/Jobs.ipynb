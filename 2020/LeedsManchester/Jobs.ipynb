{
    "metadata": {
        "kernelspec": {
            "name": "SQL",
            "display_name": "SQL",
            "language": "sql"
        },
        "language_info": {
            "name": "sql",
            "version": ""
        }
    },
    "nbformat_minor": 2,
    "nbformat": 4,
    "cells": [
        {
            "cell_type": "markdown",
            "source": [
                "# ..In the beginning\r\n",
                "\r\n",
                "\r\n",
                "![Jobs-animated](https://user-images.githubusercontent.com/30621653/75116299-c463a280-565e-11ea-862a-2a8e968bea0f.gif)\r\n",
                "\r\n",
                "![image](https://user-images.githubusercontent.com/30621653/74774985-a7108c00-528c-11ea-837f-75e773d226ed.png)\r\n",
                "![image](https://user-images.githubusercontent.com/30621653/74775423-9876a480-528d-11ea-8bf5-8bdb07862766.png)\r\n",
                ""
            ],
            "metadata": {
                "azdata_cell_guid": "0f18a970-b4b3-400d-bfe0-40efeb9785b0"
            }
        }
    ]
}